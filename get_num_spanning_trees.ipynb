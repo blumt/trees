{
 "cells": [
  {
   "cell_type": "code",
   "execution_count": 7,
   "id": "crude-cyprus",
   "metadata": {},
   "outputs": [],
   "source": [
    "from sympy import *\n",
    "import networkx as nx\n",
    "import numpy as np\n",
    "from scipy import sparse\n",
    "from scipy.sparse import linalg"
   ]
  },
  {
   "cell_type": "code",
   "execution_count": 70,
   "id": "velvet-pleasure",
   "metadata": {},
   "outputs": [],
   "source": [
    "def get_num_spanning_trees(p, district):\n",
    "    '''\n",
    "    Given a partition p and a district number, this function returns the\n",
    "    number of spanning trees in the subgraph of p corresponding to the \n",
    "    district. Uses Kirchoff's theorem to compute the number of spanning trees.\n",
    "    \n",
    "    :param p: :class:`gerrychain.Partition`\n",
    "    :param district: A district in p\n",
    "    :return: The number of spanning trees in the subgraph of p corresponding to district\n",
    "    '''\n",
    "    graph = p.subgraphs[district]\n",
    "    nodes = p.parts[district]\n",
    "    \n",
    "    # Testing using nxn grid graphs:\n",
    "    #n = 4\n",
    "    #graph = nx.grid_graph(dim=[n,n])\n",
    "    \n",
    "    laplacian = nx.laplacian_matrix(graph)\n",
    "    L = np.delete(np.delete(laplacian.todense(),0,0), 1,1)\n",
    "    return exp(np.linalg.slogdet(L)[1])"
   ]
  },
  {
   "cell_type": "code",
   "execution_count": null,
   "id": "vietnamese-charlotte",
   "metadata": {},
   "outputs": [],
   "source": []
  },
  {
   "cell_type": "markdown",
   "id": "limited-malawi",
   "metadata": {},
   "source": [
    "## Testing using partitions"
   ]
  },
  {
   "cell_type": "code",
   "execution_count": 62,
   "id": "angry-benchmark",
   "metadata": {},
   "outputs": [],
   "source": [
    "# Generating an initial partition from Colorado shapefiles from here:\n",
    "# https://github.com/mggg-states/CO-shapefiles\n",
    "\n",
    "%matplotlib inline\n",
    "%config InlineBackend.figure_format = 'svg'\n",
    "\n",
    "import matplotlib.pyplot as plt\n",
    "from gerrychain import (GeographicPartition, Partition, Graph, MarkovChain,\n",
    "                        proposals, updaters, constraints, accept, Election)\n",
    "from gerrychain.proposals import recom\n",
    "from functools import partial\n",
    "import pandas\n",
    "\n",
    "graph = Graph.from_file(\"CO-shapefiles/co_precincts.shp\")\n",
    "\n",
    "elections = [\n",
    "    Election(\"GOV18\", {\"Democratic\": \"GOV18D\", \"Republican\": \"GOV18R\"})\n",
    "]\n",
    "my_updaters = {\"population\": updaters.Tally(\"TOTPOP\", alias=\"population\")}\n",
    "# Election updaters, for computing election results using the vote totals from our shapefile.\n",
    "election_updaters = {election.name: election for election in elections}\n",
    "my_updaters.update(election_updaters)\n",
    "initial_partition = GeographicPartition(graph, assignment=\"CD116FP\", updaters=my_updaters)"
   ]
  },
  {
   "cell_type": "code",
   "execution_count": 64,
   "id": "crucial-empty",
   "metadata": {},
   "outputs": [
    {
     "name": "stdout",
     "output_type": "stream",
     "text": [
      "number of spanning trees: \n",
      "4.80693066301099e+214\n"
     ]
    }
   ],
   "source": [
    "# can set district_number to be anything '01' to '07'\n",
    "district_number = '05'\n",
    "print(\"number of spanning trees: \")\n",
    "print(str(get_num_spanning_trees(initial_partition, district_number)))"
   ]
  },
  {
   "cell_type": "code",
   "execution_count": null,
   "id": "pretty-marketing",
   "metadata": {},
   "outputs": [],
   "source": []
  },
  {
   "cell_type": "markdown",
   "id": "ranking-quality",
   "metadata": {},
   "source": [
    "## Testing using nxn grid graphs\n",
    "\n",
    "Uncomment the lines in the function get_num_spanning_trees() below the line \n",
    ">`# Testing using nxn grid graphs:`\n",
    "\n",
    "Set `n` to any integer, and compare the value returned by the function to the OEIS data: https://oeis.org/A007341"
   ]
  },
  {
   "cell_type": "code",
   "execution_count": 69,
   "id": "secure-jungle",
   "metadata": {},
   "outputs": [
    {
     "name": "stdout",
     "output_type": "stream",
     "text": [
      "number of spanning trees for a grid graph with n=4: \n",
      "100352.000000000\n"
     ]
    }
   ],
   "source": [
    "print(\"number of spanning trees for a grid graph with n=4: \")\n",
    "print(str(get_num_spanning_trees(initial_partition, district_number)))"
   ]
  },
  {
   "cell_type": "code",
   "execution_count": null,
   "id": "developmental-factor",
   "metadata": {},
   "outputs": [],
   "source": []
  },
  {
   "cell_type": "code",
   "execution_count": null,
   "id": "sporting-issue",
   "metadata": {},
   "outputs": [],
   "source": []
  },
  {
   "cell_type": "code",
   "execution_count": null,
   "id": "commercial-approval",
   "metadata": {},
   "outputs": [],
   "source": []
  },
  {
   "cell_type": "code",
   "execution_count": null,
   "id": "informal-composer",
   "metadata": {},
   "outputs": [],
   "source": []
  },
  {
   "cell_type": "code",
   "execution_count": null,
   "id": "smooth-arrow",
   "metadata": {},
   "outputs": [],
   "source": []
  },
  {
   "cell_type": "code",
   "execution_count": null,
   "id": "reported-burton",
   "metadata": {},
   "outputs": [],
   "source": []
  },
  {
   "cell_type": "code",
   "execution_count": null,
   "id": "precise-domestic",
   "metadata": {},
   "outputs": [],
   "source": []
  },
  {
   "cell_type": "code",
   "execution_count": null,
   "id": "color-publisher",
   "metadata": {},
   "outputs": [],
   "source": []
  },
  {
   "cell_type": "code",
   "execution_count": null,
   "id": "lyric-formation",
   "metadata": {},
   "outputs": [],
   "source": []
  },
  {
   "cell_type": "code",
   "execution_count": null,
   "id": "black-keeping",
   "metadata": {},
   "outputs": [],
   "source": []
  }
 ],
 "metadata": {
  "kernelspec": {
   "display_name": "Python 3",
   "language": "python",
   "name": "python3"
  },
  "language_info": {
   "codemirror_mode": {
    "name": "ipython",
    "version": 3
   },
   "file_extension": ".py",
   "mimetype": "text/x-python",
   "name": "python",
   "nbconvert_exporter": "python",
   "pygments_lexer": "ipython3",
   "version": "3.7.9"
  }
 },
 "nbformat": 4,
 "nbformat_minor": 5
}
