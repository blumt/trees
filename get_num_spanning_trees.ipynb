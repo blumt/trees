{
 "cells": [
  {
   "cell_type": "code",
   "execution_count": 7,
   "id": "crude-cyprus",
   "metadata": {},
   "outputs": [],
   "source": [
    "from sympy import *\n",
    "import networkx as nx\n",
    "import numpy as np\n",
    "from scipy import sparse\n",
    "from scipy.sparse import linalg"
   ]
  },
  {
   "cell_type": "code",
   "execution_count": 33,
   "id": "velvet-pleasure",
   "metadata": {},
   "outputs": [],
   "source": [
    "def check_symmetric(a, rtol=1e-05, atol=1e-08):\n",
    "    return np.allclose(a, a.T, rtol=rtol, atol=atol)\n",
    "\n",
    "def get_num_spanning_trees(p, district):\n",
    "    '''\n",
    "    Given a partition p and a district number, this function returns the\n",
    "    number of spanning trees in the subgraph of p corresponding to the \n",
    "    district. Uses Kirchoff's theorem to compute the number of spanning trees.\n",
    "    \n",
    "    Parameters:\n",
    "        p is a partition\n",
    "        district is the district number\n",
    "    returns:\n",
    "        the log() of the number of spanning trees\n",
    "    '''\n",
    "    graph = p.subgraphs[district]\n",
    "    nodes = p.parts[district]\n",
    "    \n",
    "    #graph = nx.complete_graph(5)\n",
    "    #nodes = [1,1,1,1,1]\n",
    "\n",
    "    laplacian = nx.laplacian_matrix(graph)\n",
    "    eigvals, eigvecs = linalg.eigs(laplacian.toarray())\n",
    "    eigvals = np.absolute(eigvals)\n",
    "    return np.absolute(1/len(nodes)*np.prod(eigvals, where = np.absolute(eigvals) > 0))\n",
    "\n",
    "def get_num_spanning_trees2(p, district):\n",
    "    '''\n",
    "    Given a partition p and a district number, this function returns the log of the\n",
    "    number of spanning trees in the subgraph of p corresponding to the \n",
    "    district. Uses Kirchoff's theorem to compute the number of spanning trees.\n",
    "    \n",
    "    Parameters:\n",
    "        p is a partition\n",
    "        district is the district number\n",
    "    returns:\n",
    "        the log() of the number of spanning trees\n",
    "    '''\n",
    "    graph = p.subgraphs[district]\n",
    "    nodes = p.parts[district]\n",
    "        \n",
    "    #graph = nx.complete_graph(5)\n",
    "    #nodes = [1,1,1,1,1]\n",
    "    \n",
    "    laplacian = nx.laplacian_matrix(graph)\n",
    "    L = np.delete(np.delete(laplacian.todense(),0,0), 1,1)\n",
    "    return exp(np.linalg.slogdet(L)[1])"
   ]
  },
  {
   "cell_type": "code",
   "execution_count": null,
   "id": "vietnamese-charlotte",
   "metadata": {},
   "outputs": [],
   "source": []
  },
  {
   "cell_type": "markdown",
   "id": "limited-malawi",
   "metadata": {},
   "source": [
    "## Testing!"
   ]
  },
  {
   "cell_type": "code",
   "execution_count": 2,
   "id": "angry-benchmark",
   "metadata": {},
   "outputs": [],
   "source": [
    "# Generating an initial partition from Colorado shapefiles from here:\n",
    "# https://github.com/mggg-states/CO-shapefiles\n",
    "\n",
    "%matplotlib inline\n",
    "%config InlineBackend.figure_format = 'svg'\n",
    "\n",
    "import matplotlib.pyplot as plt\n",
    "from gerrychain import (GeographicPartition, Partition, Graph, MarkovChain,\n",
    "                        proposals, updaters, constraints, accept, Election)\n",
    "from gerrychain.proposals import recom\n",
    "from functools import partial\n",
    "import pandas\n",
    "\n",
    "graph = Graph.from_file(\"CO-shapefiles/co_precincts.shp\")\n",
    "\n",
    "elections = [\n",
    "    Election(\"GOV18\", {\"Democratic\": \"GOV18D\", \"Republican\": \"GOV18R\"})\n",
    "]\n",
    "my_updaters = {\"population\": updaters.Tally(\"TOTPOP\", alias=\"population\")}\n",
    "# Election updaters, for computing election results using the vote totals from our shapefile.\n",
    "election_updaters = {election.name: election for election in elections}\n",
    "my_updaters.update(election_updaters)\n",
    "initial_partition = GeographicPartition(graph, assignment=\"CD116FP\", updaters=my_updaters)"
   ]
  },
  {
   "cell_type": "code",
   "execution_count": 38,
   "id": "crucial-empty",
   "metadata": {},
   "outputs": [
    {
     "name": "stdout",
     "output_type": "stream",
     "text": [
      "number of spanning trees (by computing eigenvalues): \n",
      "20364.71708558299\n",
      "\n",
      "number of spanning trees (by computing determinant): \n",
      "4.80693066301099e+214\n"
     ]
    }
   ],
   "source": [
    "# can set district_number to be anything '01' to '07'\n",
    "district_number = '05'\n",
    "print(\"number of spanning trees (by computing eigenvalues): \")\n",
    "print(str(get_num_spanning_trees(initial_partition, district_number)))\n",
    "print()\n",
    "print(\"number of spanning trees (by computing determinant): \")\n",
    "print(str(get_num_spanning_trees2(initial_partition, district_number)))"
   ]
  },
  {
   "cell_type": "code",
   "execution_count": 4,
   "id": "complex-visit",
   "metadata": {},
   "outputs": [],
   "source": []
  },
  {
   "cell_type": "code",
   "execution_count": null,
   "id": "secure-jungle",
   "metadata": {},
   "outputs": [],
   "source": []
  },
  {
   "cell_type": "code",
   "execution_count": null,
   "id": "developmental-factor",
   "metadata": {},
   "outputs": [],
   "source": []
  },
  {
   "cell_type": "code",
   "execution_count": null,
   "id": "sporting-issue",
   "metadata": {},
   "outputs": [],
   "source": []
  },
  {
   "cell_type": "code",
   "execution_count": null,
   "id": "commercial-approval",
   "metadata": {},
   "outputs": [],
   "source": []
  },
  {
   "cell_type": "code",
   "execution_count": null,
   "id": "informal-composer",
   "metadata": {},
   "outputs": [],
   "source": []
  },
  {
   "cell_type": "code",
   "execution_count": null,
   "id": "joint-clear",
   "metadata": {},
   "outputs": [],
   "source": []
  },
  {
   "cell_type": "code",
   "execution_count": null,
   "id": "going-farming",
   "metadata": {},
   "outputs": [],
   "source": []
  },
  {
   "cell_type": "code",
   "execution_count": null,
   "id": "religious-syria",
   "metadata": {},
   "outputs": [],
   "source": []
  },
  {
   "cell_type": "code",
   "execution_count": null,
   "id": "indirect-interview",
   "metadata": {},
   "outputs": [],
   "source": []
  },
  {
   "cell_type": "code",
   "execution_count": null,
   "id": "impressive-south",
   "metadata": {},
   "outputs": [],
   "source": []
  }
 ],
 "metadata": {
  "kernelspec": {
   "display_name": "Python 3",
   "language": "python",
   "name": "python3"
  },
  "language_info": {
   "codemirror_mode": {
    "name": "ipython",
    "version": 3
   },
   "file_extension": ".py",
   "mimetype": "text/x-python",
   "name": "python",
   "nbconvert_exporter": "python",
   "pygments_lexer": "ipython3",
   "version": "3.7.9"
  }
 },
 "nbformat": 4,
 "nbformat_minor": 5
}
